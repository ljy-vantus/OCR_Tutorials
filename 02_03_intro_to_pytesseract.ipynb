{
 "cells": [
  {
   "cell_type": "code",
   "execution_count": 1,
   "id": "a25d23b9-3ebd-4c4d-b0de-8516701db019",
   "metadata": {},
   "outputs": [],
   "source": [
    "import pytesseract\n",
    "from PIL import Image"
   ]
  },
  {
   "cell_type": "code",
   "execution_count": 2,
   "id": "1c22fc50-bad7-4415-a316-6f38d1f8c048",
   "metadata": {},
   "outputs": [],
   "source": [
    "img_file = \"data/page_01.jpg\"\n",
    "no_noise = \"temp/no_noise.jpg\""
   ]
  },
  {
   "cell_type": "code",
   "execution_count": 7,
   "id": "e630d09e-f61f-4e1f-90c2-1008bd9fc78c",
   "metadata": {},
   "outputs": [],
   "source": [
    "# img = Image.open(img_file)\n",
    "img = Image.open(no_noise)"
   ]
  },
  {
   "cell_type": "code",
   "execution_count": 11,
   "id": "db192e12-057e-464a-ae94-960b6e58ccb3",
   "metadata": {},
   "outputs": [],
   "source": [
    "ocr_result = pytesseract.image_to_string(img)"
   ]
  },
  {
   "cell_type": "code",
   "execution_count": 12,
   "id": "f07df1ed-d703-4d30-a792-4b964a3288e9",
   "metadata": {},
   "outputs": [
    {
     "name": "stdout",
     "output_type": "stream",
     "text": [
      "‘GABRIEL MgrMALL\n",
      "\n",
      "On Easter morning in the year 194%, I took my six-year-old\n",
      "son by the hand and began walking frow my home town toward the\n",
      "valleys and forests of the Carpathizn rountains.. For nearly\n",
      "eight months we lived in barns, attics and makeshift cabing. ith\n",
      "the generous help of an unusually courageous man, we managed to\n",
      "survive Europe's greatest fit of madness. Thoge who walked in\n",
      "the opposite direction on t?;at Easter day were less fortunate.\n",
      "They were taken in trainloads to places whose once obscure names\n",
      "are now, and forever will be, synonymous with terror, evil and\n",
      "death. What follows is 5ur story of survival told to the best\n",
      "of my ability, in plain, simple language.\n",
      "\n",
      "In March of 1944 the SS troops took over the internal at_’fairs\n",
      "of Hungary and proceeded to organize the deportation of the Jows.\n",
      "To the Mazis this was & routine assignment; within hours all local\n",
      "officials were informed of operational plans. The high command\n",
      "igsued a directive designed to placate Jewish fears and induce\n",
      "cooperation, It was announced that the Jews would be shipped to\n",
      "Polard as an emergency labor force and that they were only being\n",
      "drafted for temporary work. There were many who belleved thiz\n",
      "version. Others, less credulous, reslgréd themselves and hoped for\n",
      "the best. Still others began to make plans for escape. By Aprii\n",
      "13 the Hungarian Jews were being rounded up from all over the '\n",
      "country in what was once a huge brick factory. The reat is well\n",
      "known. ’\n",
      "\n",
      "1 was working in Ungvar and usually came home on weekends.\n",
      "\n",
      "At that time it was no longer possible for a Jew to travel freely.\n",
      "\n",
      "\n"
     ]
    }
   ],
   "source": [
    "print(ocr_result)"
   ]
  }
 ],
 "metadata": {
  "kernelspec": {
   "display_name": "Python 3 (ipykernel)",
   "language": "python",
   "name": "python3"
  },
  "language_info": {
   "codemirror_mode": {
    "name": "ipython",
    "version": 3
   },
   "file_extension": ".py",
   "mimetype": "text/x-python",
   "name": "python",
   "nbconvert_exporter": "python",
   "pygments_lexer": "ipython3",
   "version": "3.9.15"
  }
 },
 "nbformat": 4,
 "nbformat_minor": 5
}
